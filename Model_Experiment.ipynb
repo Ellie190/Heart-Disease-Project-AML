{
 "cells": [
  {
   "cell_type": "markdown",
   "metadata": {
    "toc": true
   },
   "source": [
    "<h1>Table of Contents<span class=\"tocSkip\"></span></h1>\n",
    "<div class=\"toc\"><ul class=\"toc-item\"><li><span><a href=\"#Simple-ML-MODEL\" data-toc-modified-id=\"Simple-ML-MODEL-1\"><span class=\"toc-item-num\">1&nbsp;&nbsp;</span>Simple ML MODEL</a></span><ul class=\"toc-item\"><li><span><a href=\"#Logistic-Regression\" data-toc-modified-id=\"Logistic-Regression-1.1\"><span class=\"toc-item-num\">1.1&nbsp;&nbsp;</span>Logistic Regression</a></span></li><li><span><a href=\"#Naive-Bayes\" data-toc-modified-id=\"Naive-Bayes-1.2\"><span class=\"toc-item-num\">1.2&nbsp;&nbsp;</span>Naive Bayes</a></span></li><li><span><a href=\"#Lasso-Regression\" data-toc-modified-id=\"Lasso-Regression-1.3\"><span class=\"toc-item-num\">1.3&nbsp;&nbsp;</span>Lasso Regression</a></span></li><li><span><a href=\"#Support-Vector-Machines\" data-toc-modified-id=\"Support-Vector-Machines-1.4\"><span class=\"toc-item-num\">1.4&nbsp;&nbsp;</span>Support Vector Machines</a></span></li></ul></li><li><span><a href=\"#Models-with-Train-Test-Split\" data-toc-modified-id=\"Models-with-Train-Test-Split-2\"><span class=\"toc-item-num\">2&nbsp;&nbsp;</span>Models with Train-Test Split</a></span><ul class=\"toc-item\"><li><span><a href=\"#Logistic-Regression-(Train-Test-Split)\" data-toc-modified-id=\"Logistic-Regression-(Train-Test-Split)-2.1\"><span class=\"toc-item-num\">2.1&nbsp;&nbsp;</span>Logistic Regression (Train-Test Split)</a></span><ul class=\"toc-item\"><li><span><a href=\"#Logistic-Regression-Accuracy-on-Train-data\" data-toc-modified-id=\"Logistic-Regression-Accuracy-on-Train-data-2.1.1\"><span class=\"toc-item-num\">2.1.1&nbsp;&nbsp;</span>Logistic Regression Accuracy on Train data</a></span></li><li><span><a href=\"#Logistic-Regression-Accuracy-on-Test-data\" data-toc-modified-id=\"Logistic-Regression-Accuracy-on-Test-data-2.1.2\"><span class=\"toc-item-num\">2.1.2&nbsp;&nbsp;</span>Logistic Regression Accuracy on Test data</a></span></li></ul></li><li><span><a href=\"#Support-Vector-Machine-(Train-Test-Split)\" data-toc-modified-id=\"Support-Vector-Machine-(Train-Test-Split)-2.2\"><span class=\"toc-item-num\">2.2&nbsp;&nbsp;</span>Support Vector Machine (Train-Test Split)</a></span><ul class=\"toc-item\"><li><span><a href=\"#Support-Vector-Machine-Accuracy-on-Train-data\" data-toc-modified-id=\"Support-Vector-Machine-Accuracy-on-Train-data-2.2.1\"><span class=\"toc-item-num\">2.2.1&nbsp;&nbsp;</span>Support Vector Machine Accuracy on Train data</a></span></li><li><span><a href=\"#Support-Vector-Machine-Accuracy-on-Test-data\" data-toc-modified-id=\"Support-Vector-Machine-Accuracy-on-Test-data-2.2.2\"><span class=\"toc-item-num\">2.2.2&nbsp;&nbsp;</span>Support Vector Machine Accuracy on Test data</a></span></li></ul></li></ul></li></ul></div>"
   ]
  },
  {
   "cell_type": "markdown",
   "metadata": {},
   "source": [
    "# Simple ML MODEL"
   ]
  },
  {
   "cell_type": "code",
   "execution_count": 1,
   "metadata": {
    "ExecuteTime": {
     "end_time": "2021-06-27T03:00:29.433981Z",
     "start_time": "2021-06-27T03:00:26.894761Z"
    }
   },
   "outputs": [],
   "source": [
    "import pickle\n",
    "import random\n",
    "import numpy as np \n",
    "import pandas as pd \n",
    "import seaborn as sns \n",
    "import matplotlib.pyplot as plt \n",
    "from sklearn import linear_model\n",
    "from imblearn.over_sampling import SMOTE\n",
    "from sklearn.datasets import make_classification\n",
    "from sklearn.linear_model import LogisticRegression\n",
    "from sklearn.preprocessing import StandardScaler, scale\n",
    "from sklearn.metrics import classification_report, confusion_matrix\n",
    "sns.set_style('whitegrid') "
   ]
  },
  {
   "cell_type": "code",
   "execution_count": 2,
   "metadata": {
    "ExecuteTime": {
     "end_time": "2021-06-27T03:00:33.939824Z",
     "start_time": "2021-06-27T03:00:33.937840Z"
    }
   },
   "outputs": [],
   "source": [
    "random.seed(123)"
   ]
  },
  {
   "cell_type": "code",
   "execution_count": 3,
   "metadata": {
    "ExecuteTime": {
     "end_time": "2021-06-27T03:00:35.211693Z",
     "start_time": "2021-06-27T03:00:35.195736Z"
    }
   },
   "outputs": [],
   "source": [
    "data = pd.read_csv('Heart.csv', sep = \";\")"
   ]
  },
  {
   "cell_type": "code",
   "execution_count": 4,
   "metadata": {
    "ExecuteTime": {
     "end_time": "2021-06-27T03:00:36.523282Z",
     "start_time": "2021-06-27T03:00:36.506319Z"
    }
   },
   "outputs": [
    {
     "data": {
      "text/html": [
       "<div>\n",
       "<style scoped>\n",
       "    .dataframe tbody tr th:only-of-type {\n",
       "        vertical-align: middle;\n",
       "    }\n",
       "\n",
       "    .dataframe tbody tr th {\n",
       "        vertical-align: top;\n",
       "    }\n",
       "\n",
       "    .dataframe thead th {\n",
       "        text-align: right;\n",
       "    }\n",
       "</style>\n",
       "<table border=\"1\" class=\"dataframe\">\n",
       "  <thead>\n",
       "    <tr style=\"text-align: right;\">\n",
       "      <th></th>\n",
       "      <th>age</th>\n",
       "      <th>sex</th>\n",
       "      <th>cp</th>\n",
       "      <th>trestbps</th>\n",
       "      <th>chol</th>\n",
       "      <th>fbs</th>\n",
       "      <th>restecg</th>\n",
       "      <th>thalach</th>\n",
       "      <th>exang</th>\n",
       "      <th>oldpeak</th>\n",
       "      <th>slope</th>\n",
       "      <th>ca</th>\n",
       "      <th>thal</th>\n",
       "      <th>target</th>\n",
       "    </tr>\n",
       "  </thead>\n",
       "  <tbody>\n",
       "    <tr>\n",
       "      <th>79</th>\n",
       "      <td>58</td>\n",
       "      <td>1</td>\n",
       "      <td>2</td>\n",
       "      <td>105</td>\n",
       "      <td>240</td>\n",
       "      <td>0</td>\n",
       "      <td>0</td>\n",
       "      <td>154</td>\n",
       "      <td>1</td>\n",
       "      <td>0.6</td>\n",
       "      <td>1</td>\n",
       "      <td>0</td>\n",
       "      <td>3</td>\n",
       "      <td>1</td>\n",
       "    </tr>\n",
       "    <tr>\n",
       "      <th>288</th>\n",
       "      <td>57</td>\n",
       "      <td>1</td>\n",
       "      <td>0</td>\n",
       "      <td>110</td>\n",
       "      <td>335</td>\n",
       "      <td>0</td>\n",
       "      <td>1</td>\n",
       "      <td>143</td>\n",
       "      <td>1</td>\n",
       "      <td>3.0</td>\n",
       "      <td>1</td>\n",
       "      <td>1</td>\n",
       "      <td>3</td>\n",
       "      <td>0</td>\n",
       "    </tr>\n",
       "    <tr>\n",
       "      <th>91</th>\n",
       "      <td>57</td>\n",
       "      <td>1</td>\n",
       "      <td>0</td>\n",
       "      <td>132</td>\n",
       "      <td>207</td>\n",
       "      <td>0</td>\n",
       "      <td>1</td>\n",
       "      <td>168</td>\n",
       "      <td>1</td>\n",
       "      <td>0.0</td>\n",
       "      <td>2</td>\n",
       "      <td>0</td>\n",
       "      <td>3</td>\n",
       "      <td>1</td>\n",
       "    </tr>\n",
       "    <tr>\n",
       "      <th>162</th>\n",
       "      <td>41</td>\n",
       "      <td>1</td>\n",
       "      <td>1</td>\n",
       "      <td>120</td>\n",
       "      <td>157</td>\n",
       "      <td>0</td>\n",
       "      <td>1</td>\n",
       "      <td>182</td>\n",
       "      <td>0</td>\n",
       "      <td>0.0</td>\n",
       "      <td>2</td>\n",
       "      <td>0</td>\n",
       "      <td>2</td>\n",
       "      <td>1</td>\n",
       "    </tr>\n",
       "    <tr>\n",
       "      <th>112</th>\n",
       "      <td>64</td>\n",
       "      <td>0</td>\n",
       "      <td>2</td>\n",
       "      <td>140</td>\n",
       "      <td>313</td>\n",
       "      <td>0</td>\n",
       "      <td>1</td>\n",
       "      <td>133</td>\n",
       "      <td>0</td>\n",
       "      <td>0.2</td>\n",
       "      <td>2</td>\n",
       "      <td>0</td>\n",
       "      <td>3</td>\n",
       "      <td>1</td>\n",
       "    </tr>\n",
       "  </tbody>\n",
       "</table>\n",
       "</div>"
      ],
      "text/plain": [
       "     age  sex  cp  trestbps  chol  fbs  restecg  thalach  exang  oldpeak  \\\n",
       "79    58    1   2       105   240    0        0      154      1      0.6   \n",
       "288   57    1   0       110   335    0        1      143      1      3.0   \n",
       "91    57    1   0       132   207    0        1      168      1      0.0   \n",
       "162   41    1   1       120   157    0        1      182      0      0.0   \n",
       "112   64    0   2       140   313    0        1      133      0      0.2   \n",
       "\n",
       "     slope  ca  thal  target  \n",
       "79       1   0     3       1  \n",
       "288      1   1     3       0  \n",
       "91       2   0     3       1  \n",
       "162      2   0     2       1  \n",
       "112      2   0     3       1  "
      ]
     },
     "execution_count": 4,
     "metadata": {},
     "output_type": "execute_result"
    }
   ],
   "source": [
    "data.sample(5)"
   ]
  },
  {
   "cell_type": "code",
   "execution_count": 5,
   "metadata": {
    "ExecuteTime": {
     "end_time": "2021-06-27T03:00:37.199003Z",
     "start_time": "2021-06-27T03:00:37.188005Z"
    }
   },
   "outputs": [
    {
     "name": "stdout",
     "output_type": "stream",
     "text": [
      "<class 'pandas.core.frame.DataFrame'>\n",
      "RangeIndex: 303 entries, 0 to 302\n",
      "Data columns (total 14 columns):\n",
      " #   Column    Non-Null Count  Dtype  \n",
      "---  ------    --------------  -----  \n",
      " 0   age       303 non-null    int64  \n",
      " 1   sex       303 non-null    int64  \n",
      " 2   cp        303 non-null    int64  \n",
      " 3   trestbps  303 non-null    int64  \n",
      " 4   chol      303 non-null    int64  \n",
      " 5   fbs       303 non-null    int64  \n",
      " 6   restecg   303 non-null    int64  \n",
      " 7   thalach   303 non-null    int64  \n",
      " 8   exang     303 non-null    int64  \n",
      " 9   oldpeak   303 non-null    float64\n",
      " 10  slope     303 non-null    int64  \n",
      " 11  ca        303 non-null    int64  \n",
      " 12  thal      303 non-null    int64  \n",
      " 13  target    303 non-null    int64  \n",
      "dtypes: float64(1), int64(13)\n",
      "memory usage: 33.3 KB\n"
     ]
    }
   ],
   "source": [
    "data.info()"
   ]
  },
  {
   "cell_type": "code",
   "execution_count": 6,
   "metadata": {
    "ExecuteTime": {
     "end_time": "2021-06-27T03:00:37.632550Z",
     "start_time": "2021-06-27T03:00:37.616630Z"
    }
   },
   "outputs": [
    {
     "data": {
      "text/html": [
       "<div>\n",
       "<style scoped>\n",
       "    .dataframe tbody tr th:only-of-type {\n",
       "        vertical-align: middle;\n",
       "    }\n",
       "\n",
       "    .dataframe tbody tr th {\n",
       "        vertical-align: top;\n",
       "    }\n",
       "\n",
       "    .dataframe thead th {\n",
       "        text-align: right;\n",
       "    }\n",
       "</style>\n",
       "<table border=\"1\" class=\"dataframe\">\n",
       "  <thead>\n",
       "    <tr style=\"text-align: right;\">\n",
       "      <th></th>\n",
       "      <th>age</th>\n",
       "      <th>sex</th>\n",
       "      <th>cp</th>\n",
       "      <th>trestbps</th>\n",
       "      <th>chol</th>\n",
       "      <th>fbs</th>\n",
       "      <th>restecg</th>\n",
       "      <th>thalach</th>\n",
       "      <th>exang</th>\n",
       "      <th>oldpeak</th>\n",
       "      <th>slope</th>\n",
       "      <th>ca</th>\n",
       "      <th>thal</th>\n",
       "      <th>target</th>\n",
       "    </tr>\n",
       "  </thead>\n",
       "  <tbody>\n",
       "    <tr>\n",
       "      <th>164</th>\n",
       "      <td>38</td>\n",
       "      <td>1</td>\n",
       "      <td>2</td>\n",
       "      <td>138</td>\n",
       "      <td>175</td>\n",
       "      <td>0</td>\n",
       "      <td>1</td>\n",
       "      <td>173</td>\n",
       "      <td>0</td>\n",
       "      <td>0.0</td>\n",
       "      <td>2</td>\n",
       "      <td>4</td>\n",
       "      <td>2</td>\n",
       "      <td>1</td>\n",
       "    </tr>\n",
       "  </tbody>\n",
       "</table>\n",
       "</div>"
      ],
      "text/plain": [
       "     age  sex  cp  trestbps  chol  fbs  restecg  thalach  exang  oldpeak  \\\n",
       "164   38    1   2       138   175    0        1      173      0      0.0   \n",
       "\n",
       "     slope  ca  thal  target  \n",
       "164      2   4     2       1  "
      ]
     },
     "execution_count": 6,
     "metadata": {},
     "output_type": "execute_result"
    }
   ],
   "source": [
    "# Checking for duplicates\n",
    "duplicate_data = data[data.duplicated()]\n",
    "duplicate_data"
   ]
  },
  {
   "cell_type": "code",
   "execution_count": 7,
   "metadata": {
    "ExecuteTime": {
     "end_time": "2021-06-27T03:00:37.970481Z",
     "start_time": "2021-06-27T03:00:37.962502Z"
    }
   },
   "outputs": [
    {
     "data": {
      "text/plain": [
       "1"
      ]
     },
     "execution_count": 7,
     "metadata": {},
     "output_type": "execute_result"
    }
   ],
   "source": [
    "# Counting the number of duplicate values \n",
    "data.duplicated().sum()"
   ]
  },
  {
   "cell_type": "code",
   "execution_count": 8,
   "metadata": {
    "ExecuteTime": {
     "end_time": "2021-06-27T03:00:38.323988Z",
     "start_time": "2021-06-27T03:00:38.319042Z"
    }
   },
   "outputs": [
    {
     "data": {
      "text/plain": [
       "303"
      ]
     },
     "execution_count": 8,
     "metadata": {},
     "output_type": "execute_result"
    }
   ],
   "source": [
    "# Data set length before removing duplicates\n",
    "len(data)"
   ]
  },
  {
   "cell_type": "code",
   "execution_count": 9,
   "metadata": {
    "ExecuteTime": {
     "end_time": "2021-06-27T03:00:38.690921Z",
     "start_time": "2021-06-27T03:00:38.682941Z"
    }
   },
   "outputs": [],
   "source": [
    "# Removing duplicate data \n",
    "data.drop_duplicates(keep='first', inplace=True)"
   ]
  },
  {
   "cell_type": "code",
   "execution_count": 10,
   "metadata": {
    "ExecuteTime": {
     "end_time": "2021-06-27T03:00:39.082279Z",
     "start_time": "2021-06-27T03:00:39.078255Z"
    }
   },
   "outputs": [
    {
     "data": {
      "text/plain": [
       "302"
      ]
     },
     "execution_count": 10,
     "metadata": {},
     "output_type": "execute_result"
    }
   ],
   "source": [
    "# Data set length after removing duplicates\n",
    "len(data)"
   ]
  },
  {
   "cell_type": "code",
   "execution_count": 11,
   "metadata": {
    "ExecuteTime": {
     "end_time": "2021-06-27T03:00:39.559309Z",
     "start_time": "2021-06-27T03:00:39.536370Z"
    }
   },
   "outputs": [
    {
     "data": {
      "text/html": [
       "<div>\n",
       "<style scoped>\n",
       "    .dataframe tbody tr th:only-of-type {\n",
       "        vertical-align: middle;\n",
       "    }\n",
       "\n",
       "    .dataframe tbody tr th {\n",
       "        vertical-align: top;\n",
       "    }\n",
       "\n",
       "    .dataframe thead th {\n",
       "        text-align: right;\n",
       "    }\n",
       "</style>\n",
       "<table border=\"1\" class=\"dataframe\">\n",
       "  <thead>\n",
       "    <tr style=\"text-align: right;\">\n",
       "      <th></th>\n",
       "      <th>age</th>\n",
       "      <th>sex</th>\n",
       "      <th>cp</th>\n",
       "      <th>trestbps</th>\n",
       "      <th>chol</th>\n",
       "      <th>fbs</th>\n",
       "      <th>restecg</th>\n",
       "      <th>thalach</th>\n",
       "      <th>exang</th>\n",
       "      <th>oldpeak</th>\n",
       "      <th>slope</th>\n",
       "      <th>ca</th>\n",
       "      <th>thal</th>\n",
       "      <th>target</th>\n",
       "    </tr>\n",
       "  </thead>\n",
       "  <tbody>\n",
       "  </tbody>\n",
       "</table>\n",
       "</div>"
      ],
      "text/plain": [
       "Empty DataFrame\n",
       "Columns: [age, sex, cp, trestbps, chol, fbs, restecg, thalach, exang, oldpeak, slope, ca, thal, target]\n",
       "Index: []"
      ]
     },
     "execution_count": 11,
     "metadata": {},
     "output_type": "execute_result"
    }
   ],
   "source": [
    "# double checking for duplicates \n",
    "duplicate_data = data[data.duplicated()]\n",
    "duplicate_data"
   ]
  },
  {
   "cell_type": "code",
   "execution_count": 12,
   "metadata": {
    "ExecuteTime": {
     "end_time": "2021-06-27T03:00:39.904553Z",
     "start_time": "2021-06-27T03:00:39.894580Z"
    }
   },
   "outputs": [
    {
     "data": {
      "text/plain": [
       "0"
      ]
     },
     "execution_count": 12,
     "metadata": {},
     "output_type": "execute_result"
    }
   ],
   "source": [
    "# Counting the number of duplicate values \n",
    "data.duplicated().sum()"
   ]
  },
  {
   "cell_type": "code",
   "execution_count": 13,
   "metadata": {
    "ExecuteTime": {
     "end_time": "2021-06-27T03:00:40.470672Z",
     "start_time": "2021-06-27T03:00:40.451756Z"
    }
   },
   "outputs": [
    {
     "data": {
      "text/plain": [
       "target      0.0\n",
       "thal        0.0\n",
       "ca          0.0\n",
       "slope       0.0\n",
       "oldpeak     0.0\n",
       "exang       0.0\n",
       "thalach     0.0\n",
       "restecg     0.0\n",
       "fbs         0.0\n",
       "chol        0.0\n",
       "trestbps    0.0\n",
       "cp          0.0\n",
       "sex         0.0\n",
       "age         0.0\n",
       "dtype: float64"
      ]
     },
     "execution_count": 13,
     "metadata": {},
     "output_type": "execute_result"
    }
   ],
   "source": [
    "# Percentage of missing values \n",
    "(data.isnull().sum() * 100 / data.shape[0]).sort_values(ascending=False)"
   ]
  },
  {
   "cell_type": "code",
   "execution_count": 14,
   "metadata": {
    "ExecuteTime": {
     "end_time": "2021-06-27T03:00:41.236723Z",
     "start_time": "2021-06-27T03:00:41.059841Z"
    }
   },
   "outputs": [
    {
     "data": {
      "image/png": "[encoded data removed]",
      "text/plain": [
       "<Figure size 504x360 with 1 Axes>"
      ]
     },
     "metadata": {},
     "output_type": "display_data"
    }
   ],
   "source": [
    "cust_col = [\"#1f77b4\",\"#ff7f0e\"] # own custom color scheme \n",
    "sns.set_palette(cust_col) # set color scheme\n",
    "total = len(data)\n",
    "plt.figure(figsize=(7,5))\n",
    "g = sns.countplot(x='target', data=data)\n",
    "g.set_ylabel('Count', fontsize=14)\n",
    "for p in g.patches:\n",
    "    height = p.get_height()\n",
    "    g.text(p.get_x()+p.get_width()/2.,\n",
    "            height + 1.5,\n",
    "            '{:1.2f}%'.format(height/total*100),\n",
    "            ha=\"center\", fontsize=14, fontweight='bold')\n",
    "plt.margins(y=0.1)\n",
    "plt.title('Patients with Heart Disease');\n",
    "plt.xlabel('Heart Disease');\n",
    "plt.ylabel('Number of Patients');\n",
    "plt.show()"
   ]
  },
  {
   "cell_type": "markdown",
   "metadata": {},
   "source": [
    "## Logistic Regression"
   ]
  },
  {
   "cell_type": "code",
   "execution_count": 15,
   "metadata": {
    "ExecuteTime": {
     "end_time": "2021-06-27T03:00:46.180643Z",
     "start_time": "2021-06-27T03:00:46.177654Z"
    }
   },
   "outputs": [],
   "source": [
    "# copy data to avoid modifying original data\n",
    "lr_data = data.copy() "
   ]
  },
  {
   "cell_type": "code",
   "execution_count": 16,
   "metadata": {
    "ExecuteTime": {
     "end_time": "2021-06-27T03:00:47.149097Z",
     "start_time": "2021-06-27T03:00:47.143113Z"
    }
   },
   "outputs": [],
   "source": [
    "#split dataset in features and target variable\n",
    "X = lr_data.loc[:, lr_data.columns != 'target']\n",
    "y = lr_data.target"
   ]
  },
  {
   "cell_type": "code",
   "execution_count": 17,
   "metadata": {
    "ExecuteTime": {
     "end_time": "2021-06-27T03:00:47.779712Z",
     "start_time": "2021-06-27T03:00:47.772732Z"
    }
   },
   "outputs": [],
   "source": [
    "X_t = scale(X)"
   ]
  },
  {
   "cell_type": "code",
   "execution_count": 18,
   "metadata": {
    "ExecuteTime": {
     "end_time": "2021-06-27T03:00:48.964515Z",
     "start_time": "2021-06-27T03:00:48.952585Z"
    }
   },
   "outputs": [
    {
     "data": {
      "text/plain": [
       "LogisticRegression()"
      ]
     },
     "execution_count": 18,
     "metadata": {},
     "output_type": "execute_result"
    }
   ],
   "source": [
    "lr_model = LogisticRegression()\n",
    "lr_model.fit(X_t,y)"
   ]
  },
  {
   "cell_type": "code",
   "execution_count": 19,
   "metadata": {
    "ExecuteTime": {
     "end_time": "2021-06-27T03:00:51.914538Z",
     "start_time": "2021-06-27T03:00:51.902536Z"
    }
   },
   "outputs": [
    {
     "name": "stdout",
     "output_type": "stream",
     "text": [
      "              precision    recall  f1-score   support\n",
      "\n",
      "           0       0.88      0.77      0.82       138\n",
      "           1       0.82      0.91      0.87       164\n",
      "\n",
      "    accuracy                           0.85       302\n",
      "   macro avg       0.85      0.84      0.84       302\n",
      "weighted avg       0.85      0.85      0.85       302\n",
      "\n"
     ]
    }
   ],
   "source": [
    "print(classification_report(y, lr_model.predict(X_t)))"
   ]
  },
  {
   "cell_type": "code",
   "execution_count": 20,
   "metadata": {
    "ExecuteTime": {
     "end_time": "2021-06-27T03:00:57.417244Z",
     "start_time": "2021-06-27T03:00:57.412259Z"
    }
   },
   "outputs": [],
   "source": [
    "# save the model to disk\n",
    "filename = 'Saved_Experiment_Models/LR_model_experiment.pkl'\n",
    "pickle.dump(lr_model, open(filename, 'wb'))"
   ]
  },
  {
   "cell_type": "code",
   "execution_count": 21,
   "metadata": {
    "ExecuteTime": {
     "end_time": "2021-06-27T03:00:59.269220Z",
     "start_time": "2021-06-27T03:00:59.258210Z"
    }
   },
   "outputs": [],
   "source": [
    "# load the model from disk\n",
    "loaded_model = pickle.load(open(filename, 'rb'))"
   ]
  },
  {
   "cell_type": "code",
   "execution_count": 22,
   "metadata": {
    "ExecuteTime": {
     "end_time": "2021-06-27T03:00:59.737256Z",
     "start_time": "2021-06-27T03:00:59.725290Z"
    }
   },
   "outputs": [
    {
     "data": {
      "text/html": [
       "<div>\n",
       "<style scoped>\n",
       "    .dataframe tbody tr th:only-of-type {\n",
       "        vertical-align: middle;\n",
       "    }\n",
       "\n",
       "    .dataframe tbody tr th {\n",
       "        vertical-align: top;\n",
       "    }\n",
       "\n",
       "    .dataframe thead th {\n",
       "        text-align: right;\n",
       "    }\n",
       "</style>\n",
       "<table border=\"1\" class=\"dataframe\">\n",
       "  <thead>\n",
       "    <tr style=\"text-align: right;\">\n",
       "      <th></th>\n",
       "      <th>age</th>\n",
       "      <th>sex</th>\n",
       "      <th>cp</th>\n",
       "      <th>trestbps</th>\n",
       "      <th>chol</th>\n",
       "      <th>fbs</th>\n",
       "      <th>restecg</th>\n",
       "      <th>thalach</th>\n",
       "      <th>exang</th>\n",
       "      <th>oldpeak</th>\n",
       "      <th>slope</th>\n",
       "      <th>ca</th>\n",
       "      <th>thal</th>\n",
       "      <th>target</th>\n",
       "    </tr>\n",
       "  </thead>\n",
       "  <tbody>\n",
       "    <tr>\n",
       "      <th>0</th>\n",
       "      <td>63</td>\n",
       "      <td>1</td>\n",
       "      <td>3</td>\n",
       "      <td>145</td>\n",
       "      <td>233</td>\n",
       "      <td>1</td>\n",
       "      <td>0</td>\n",
       "      <td>150</td>\n",
       "      <td>0</td>\n",
       "      <td>2.3</td>\n",
       "      <td>0</td>\n",
       "      <td>0</td>\n",
       "      <td>1</td>\n",
       "      <td>1</td>\n",
       "    </tr>\n",
       "    <tr>\n",
       "      <th>1</th>\n",
       "      <td>37</td>\n",
       "      <td>1</td>\n",
       "      <td>2</td>\n",
       "      <td>130</td>\n",
       "      <td>250</td>\n",
       "      <td>0</td>\n",
       "      <td>1</td>\n",
       "      <td>187</td>\n",
       "      <td>0</td>\n",
       "      <td>3.5</td>\n",
       "      <td>0</td>\n",
       "      <td>0</td>\n",
       "      <td>2</td>\n",
       "      <td>1</td>\n",
       "    </tr>\n",
       "  </tbody>\n",
       "</table>\n",
       "</div>"
      ],
      "text/plain": [
       "   age  sex  cp  trestbps  chol  fbs  restecg  thalach  exang  oldpeak  slope  \\\n",
       "0   63    1   3       145   233    1        0      150      0      2.3      0   \n",
       "1   37    1   2       130   250    0        1      187      0      3.5      0   \n",
       "\n",
       "   ca  thal  target  \n",
       "0   0     1       1  \n",
       "1   0     2       1  "
      ]
     },
     "execution_count": 22,
     "metadata": {},
     "output_type": "execute_result"
    }
   ],
   "source": [
    "data.head(2)"
   ]
  },
  {
   "cell_type": "code",
   "execution_count": 23,
   "metadata": {
    "ExecuteTime": {
     "end_time": "2021-06-27T03:01:00.545145Z",
     "start_time": "2021-06-27T03:01:00.540121Z"
    }
   },
   "outputs": [
    {
     "data": {
      "text/plain": [
       "array([1], dtype=int64)"
      ]
     },
     "execution_count": 23,
     "metadata": {},
     "output_type": "execute_result"
    }
   ],
   "source": [
    "# Use Model for prediction (Predicting the Row 0)\n",
    "loaded_model.predict(scale([[63, 1, 3, 145, 233, 1, 0, 150, 0, 2.3, 0, 0, 1]]))"
   ]
  },
  {
   "cell_type": "markdown",
   "metadata": {},
   "source": [
    "## Naive Bayes "
   ]
  },
  {
   "cell_type": "code",
   "execution_count": 24,
   "metadata": {
    "ExecuteTime": {
     "end_time": "2021-06-27T03:01:03.047231Z",
     "start_time": "2021-06-27T03:01:03.041758Z"
    }
   },
   "outputs": [],
   "source": [
    "# copy data to avoid modifying original data\n",
    "nb_data = data.copy()"
   ]
  },
  {
   "cell_type": "code",
   "execution_count": 25,
   "metadata": {
    "ExecuteTime": {
     "end_time": "2021-06-27T03:01:03.654528Z",
     "start_time": "2021-06-27T03:01:03.650549Z"
    }
   },
   "outputs": [],
   "source": [
    "#split dataset in features and target variable\n",
    "X =  nb_data.loc[:, nb_data.columns != 'target']\n",
    "y = nb_data.target # Target feature"
   ]
  },
  {
   "cell_type": "code",
   "execution_count": 26,
   "metadata": {
    "ExecuteTime": {
     "end_time": "2021-06-27T03:01:04.224471Z",
     "start_time": "2021-06-27T03:01:04.218486Z"
    }
   },
   "outputs": [],
   "source": [
    "X_t = scale(X)"
   ]
  },
  {
   "cell_type": "code",
   "execution_count": 27,
   "metadata": {
    "ExecuteTime": {
     "end_time": "2021-06-27T03:01:15.165274Z",
     "start_time": "2021-06-27T03:01:15.156326Z"
    }
   },
   "outputs": [
    {
     "data": {
      "text/plain": [
       "GaussianNB()"
      ]
     },
     "execution_count": 27,
     "metadata": {},
     "output_type": "execute_result"
    }
   ],
   "source": [
    "from sklearn.naive_bayes import GaussianNB\n",
    "nb_model = GaussianNB()\n",
    "nb_model.fit(X_t,y)"
   ]
  },
  {
   "cell_type": "code",
   "execution_count": 28,
   "metadata": {
    "ExecuteTime": {
     "end_time": "2021-06-27T03:01:25.918793Z",
     "start_time": "2021-06-27T03:01:25.909777Z"
    }
   },
   "outputs": [
    {
     "name": "stdout",
     "output_type": "stream",
     "text": [
      "              precision    recall  f1-score   support\n",
      "\n",
      "           0       0.84      0.80      0.82       138\n",
      "           1       0.84      0.87      0.85       164\n",
      "\n",
      "    accuracy                           0.84       302\n",
      "   macro avg       0.84      0.83      0.84       302\n",
      "weighted avg       0.84      0.84      0.84       302\n",
      "\n"
     ]
    }
   ],
   "source": [
    "print(classification_report(y, nb_model.predict(X_t)))"
   ]
  },
  {
   "cell_type": "code",
   "execution_count": 29,
   "metadata": {
    "ExecuteTime": {
     "end_time": "2021-06-27T03:01:28.557893Z",
     "start_time": "2021-06-27T03:01:28.553904Z"
    }
   },
   "outputs": [],
   "source": [
    "# save the model to disk\n",
    "filename2 = 'Saved_Experiment_Models/NB_model_experiment.pkl'\n",
    "pickle.dump(nb_model, open(filename2, 'wb'))"
   ]
  },
  {
   "cell_type": "code",
   "execution_count": 30,
   "metadata": {
    "ExecuteTime": {
     "end_time": "2021-06-27T03:01:29.100988Z",
     "start_time": "2021-06-27T03:01:29.087987Z"
    }
   },
   "outputs": [],
   "source": [
    "# load the model from disk\n",
    "loaded_NBmodel = pickle.load(open(filename2, 'rb'))"
   ]
  },
  {
   "cell_type": "code",
   "execution_count": 31,
   "metadata": {
    "ExecuteTime": {
     "end_time": "2021-06-27T03:01:30.099610Z",
     "start_time": "2021-06-27T03:01:30.093598Z"
    }
   },
   "outputs": [
    {
     "data": {
      "text/plain": [
       "array([1], dtype=int64)"
      ]
     },
     "execution_count": 31,
     "metadata": {},
     "output_type": "execute_result"
    }
   ],
   "source": [
    "# make prediction with loaded model \n",
    "loaded_NBmodel.predict(scale([[63, 1, 3, 145, 233, 1, 0, 150, 0, 2.3, 0, 0, 1]]))"
   ]
  },
  {
   "cell_type": "markdown",
   "metadata": {},
   "source": [
    "## Lasso Regression"
   ]
  },
  {
   "cell_type": "code",
   "execution_count": 32,
   "metadata": {
    "ExecuteTime": {
     "end_time": "2021-06-27T03:01:33.552796Z",
     "start_time": "2021-06-27T03:01:33.548812Z"
    }
   },
   "outputs": [],
   "source": [
    "# copy data to avoid modifying original data\n",
    "la_data = data.copy()"
   ]
  },
  {
   "cell_type": "code",
   "execution_count": 33,
   "metadata": {
    "ExecuteTime": {
     "end_time": "2021-06-27T03:01:34.672795Z",
     "start_time": "2021-06-27T03:01:34.668836Z"
    }
   },
   "outputs": [],
   "source": [
    "#split dataset in features and target variable\n",
    "X = la_data.loc[:, nb_data.columns != 'target']\n",
    "y = la_data.target # Target feature"
   ]
  },
  {
   "cell_type": "code",
   "execution_count": 34,
   "metadata": {
    "ExecuteTime": {
     "end_time": "2021-06-27T03:01:35.605682Z",
     "start_time": "2021-06-27T03:01:35.598702Z"
    }
   },
   "outputs": [],
   "source": [
    "X_t = scale(X)"
   ]
  },
  {
   "cell_type": "code",
   "execution_count": 35,
   "metadata": {
    "ExecuteTime": {
     "end_time": "2021-06-27T03:01:36.134263Z",
     "start_time": "2021-06-27T03:01:36.127282Z"
    }
   },
   "outputs": [
    {
     "data": {
      "text/plain": [
       "Lasso(alpha=0.1)"
      ]
     },
     "execution_count": 35,
     "metadata": {},
     "output_type": "execute_result"
    }
   ],
   "source": [
    "from sklearn import linear_model\n",
    "la_model = linear_model.Lasso(alpha=0.1)\n",
    "la_model.fit(X_t,y)"
   ]
  },
  {
   "cell_type": "code",
   "execution_count": 36,
   "metadata": {
    "ExecuteTime": {
     "end_time": "2021-06-27T03:01:38.187642Z",
     "start_time": "2021-06-27T03:01:38.183652Z"
    }
   },
   "outputs": [],
   "source": [
    "la_cls = la_model.predict(X_t)"
   ]
  },
  {
   "cell_type": "code",
   "execution_count": 37,
   "metadata": {
    "ExecuteTime": {
     "end_time": "2021-06-27T03:01:39.813400Z",
     "start_time": "2021-06-27T03:01:39.808435Z"
    }
   },
   "outputs": [],
   "source": [
    "cls = np.array([1 if x>0.5 else 0 for x in la_cls])"
   ]
  },
  {
   "cell_type": "code",
   "execution_count": 38,
   "metadata": {
    "ExecuteTime": {
     "end_time": "2021-06-27T03:01:42.315725Z",
     "start_time": "2021-06-27T03:01:42.306748Z"
    }
   },
   "outputs": [
    {
     "name": "stdout",
     "output_type": "stream",
     "text": [
      "              precision    recall  f1-score   support\n",
      "\n",
      "           0       0.92      0.70      0.80       138\n",
      "           1       0.79      0.95      0.86       164\n",
      "\n",
      "    accuracy                           0.83       302\n",
      "   macro avg       0.85      0.82      0.83       302\n",
      "weighted avg       0.85      0.83      0.83       302\n",
      "\n"
     ]
    }
   ],
   "source": [
    "print(classification_report(y, cls))"
   ]
  },
  {
   "cell_type": "markdown",
   "metadata": {},
   "source": [
    "## Support Vector Machines"
   ]
  },
  {
   "cell_type": "markdown",
   "metadata": {},
   "source": [
    "Support Vector Machine is considered as a classification approach, but it can be applied to both classification and regression problems. \n",
    "\n",
    "More on SVM: [Wikipedia](https://en.wikipedia.org/wiki/Support-vector_machine)"
   ]
  },
  {
   "cell_type": "code",
   "execution_count": 39,
   "metadata": {
    "ExecuteTime": {
     "end_time": "2021-06-27T03:01:47.053999Z",
     "start_time": "2021-06-27T03:01:47.050004Z"
    }
   },
   "outputs": [],
   "source": [
    "# copy data to avoid modifying original data\n",
    "svm_data = data.copy()"
   ]
  },
  {
   "cell_type": "code",
   "execution_count": 40,
   "metadata": {
    "ExecuteTime": {
     "end_time": "2021-06-27T03:01:57.430025Z",
     "start_time": "2021-06-27T03:01:57.425074Z"
    }
   },
   "outputs": [],
   "source": [
    "#split dataset in features and target variable\n",
    "X = svm_data.loc[:, svm_data.columns != 'target']\n",
    "y = svm_data.target # Target feature"
   ]
  },
  {
   "cell_type": "code",
   "execution_count": 41,
   "metadata": {
    "ExecuteTime": {
     "end_time": "2021-06-27T03:01:59.773985Z",
     "start_time": "2021-06-27T03:01:59.769034Z"
    }
   },
   "outputs": [],
   "source": [
    "X_t = scale(X)"
   ]
  },
  {
   "cell_type": "code",
   "execution_count": 42,
   "metadata": {
    "ExecuteTime": {
     "end_time": "2021-06-27T03:02:00.899882Z",
     "start_time": "2021-06-27T03:02:00.889869Z"
    }
   },
   "outputs": [
    {
     "data": {
      "text/plain": [
       "SVC(kernel='linear')"
      ]
     },
     "execution_count": 42,
     "metadata": {},
     "output_type": "execute_result"
    }
   ],
   "source": [
    "from sklearn import svm\n",
    "svm_model = svm.SVC(kernel='linear')\n",
    "svm_model.fit(X_t,y)"
   ]
  },
  {
   "cell_type": "code",
   "execution_count": 43,
   "metadata": {
    "ExecuteTime": {
     "end_time": "2021-06-27T03:02:04.603893Z",
     "start_time": "2021-06-27T03:02:04.593879Z"
    }
   },
   "outputs": [
    {
     "name": "stdout",
     "output_type": "stream",
     "text": [
      "              precision    recall  f1-score   support\n",
      "\n",
      "           0       0.91      0.78      0.84       138\n",
      "           1       0.83      0.94      0.88       164\n",
      "\n",
      "    accuracy                           0.86       302\n",
      "   macro avg       0.87      0.86      0.86       302\n",
      "weighted avg       0.87      0.86      0.86       302\n",
      "\n"
     ]
    }
   ],
   "source": [
    "print(classification_report(y, svm_model.predict(X_t)))"
   ]
  },
  {
   "cell_type": "code",
   "execution_count": 44,
   "metadata": {
    "ExecuteTime": {
     "end_time": "2021-06-27T03:02:07.124170Z",
     "start_time": "2021-06-27T03:02:07.120177Z"
    }
   },
   "outputs": [],
   "source": [
    "# save the model to disk\n",
    "filename4 = 'Saved_Experiment_Models/svm_model.pkl'\n",
    "pickle.dump(svm_model, open(filename4, 'wb'))"
   ]
  },
  {
   "cell_type": "code",
   "execution_count": 45,
   "metadata": {
    "ExecuteTime": {
     "end_time": "2021-06-27T03:02:08.455701Z",
     "start_time": "2021-06-27T03:02:08.442421Z"
    }
   },
   "outputs": [],
   "source": [
    "# load the model from disk\n",
    "loaded_SVMmodel = pickle.load(open(filename4, 'rb'))"
   ]
  },
  {
   "cell_type": "code",
   "execution_count": 46,
   "metadata": {
    "ExecuteTime": {
     "end_time": "2021-06-27T03:02:09.268761Z",
     "start_time": "2021-06-27T03:02:08.970711Z"
    }
   },
   "outputs": [
    {
     "data": {
      "text/plain": [
       "array([1], dtype=int64)"
      ]
     },
     "execution_count": 46,
     "metadata": {},
     "output_type": "execute_result"
    }
   ],
   "source": [
    "# Use Model for prediction (Predicting the Row 0)\n",
    "loaded_SVMmodel.predict(scale([[63, 1, 3, 145, 233, 1, 0, 150, 0, 2.3, 0, 0, 1]]))"
   ]
  },
  {
   "cell_type": "markdown",
   "metadata": {},
   "source": [
    "# Models with Train-Test Split \n",
    "- `Best Performing Models:` Logistic Regression and Support Vector Machine "
   ]
  },
  {
   "cell_type": "code",
   "execution_count": 47,
   "metadata": {
    "ExecuteTime": {
     "end_time": "2021-06-27T03:02:15.191581Z",
     "start_time": "2021-06-27T03:02:15.188621Z"
    }
   },
   "outputs": [],
   "source": [
    "from sklearn.model_selection import train_test_split"
   ]
  },
  {
   "cell_type": "markdown",
   "metadata": {},
   "source": [
    "## Logistic Regression (Train-Test Split)"
   ]
  },
  {
   "cell_type": "code",
   "execution_count": 48,
   "metadata": {
    "ExecuteTime": {
     "end_time": "2021-06-27T03:02:16.959648Z",
     "start_time": "2021-06-27T03:02:16.955692Z"
    }
   },
   "outputs": [],
   "source": [
    "# copy data to avoid modifying original data\n",
    "lr2_data = data.copy() "
   ]
  },
  {
   "cell_type": "code",
   "execution_count": 49,
   "metadata": {
    "ExecuteTime": {
     "end_time": "2021-06-27T03:02:18.595968Z",
     "start_time": "2021-06-27T03:02:18.592014Z"
    }
   },
   "outputs": [],
   "source": [
    "#split dataset in features and target variable\n",
    "X = lr2_data.loc[:, lr2_data.columns != 'target']\n",
    "y = lr2_data.target"
   ]
  },
  {
   "cell_type": "code",
   "execution_count": 50,
   "metadata": {
    "ExecuteTime": {
     "end_time": "2021-06-27T03:02:21.293291Z",
     "start_time": "2021-06-27T03:02:21.287306Z"
    }
   },
   "outputs": [],
   "source": [
    "X_t = scale(X)"
   ]
  },
  {
   "cell_type": "code",
   "execution_count": 51,
   "metadata": {
    "ExecuteTime": {
     "end_time": "2021-06-27T03:02:23.092267Z",
     "start_time": "2021-06-27T03:02:23.087308Z"
    }
   },
   "outputs": [],
   "source": [
    "# 80% Training and 20% Testing \n",
    "X_train, X_test, y_train, y_test = train_test_split(X_t, y, test_size=0.2,random_state=109)"
   ]
  },
  {
   "cell_type": "code",
   "execution_count": 52,
   "metadata": {
    "ExecuteTime": {
     "end_time": "2021-06-27T03:02:26.260274Z",
     "start_time": "2021-06-27T03:02:26.252296Z"
    }
   },
   "outputs": [
    {
     "data": {
      "text/plain": [
       "LogisticRegression()"
      ]
     },
     "execution_count": 52,
     "metadata": {},
     "output_type": "execute_result"
    }
   ],
   "source": [
    "lr2_model = LogisticRegression()\n",
    "lr2_model.fit(X_train,y_train)"
   ]
  },
  {
   "cell_type": "markdown",
   "metadata": {},
   "source": [
    "### Logistic Regression Accuracy on Train data"
   ]
  },
  {
   "cell_type": "code",
   "execution_count": 53,
   "metadata": {
    "ExecuteTime": {
     "end_time": "2021-06-27T03:02:31.310908Z",
     "start_time": "2021-06-27T03:02:31.300968Z"
    }
   },
   "outputs": [
    {
     "name": "stdout",
     "output_type": "stream",
     "text": [
      "              precision    recall  f1-score   support\n",
      "\n",
      "           0       0.86      0.76      0.81       109\n",
      "           1       0.82      0.90      0.86       132\n",
      "\n",
      "    accuracy                           0.84       241\n",
      "   macro avg       0.84      0.83      0.83       241\n",
      "weighted avg       0.84      0.84      0.84       241\n",
      "\n"
     ]
    }
   ],
   "source": [
    "print(classification_report(y_train, lr2_model.predict(X_train)))"
   ]
  },
  {
   "cell_type": "markdown",
   "metadata": {},
   "source": [
    "### Logistic Regression Accuracy on Test data"
   ]
  },
  {
   "cell_type": "code",
   "execution_count": 54,
   "metadata": {
    "ExecuteTime": {
     "end_time": "2021-06-27T03:02:40.074745Z",
     "start_time": "2021-06-27T03:02:40.066771Z"
    }
   },
   "outputs": [
    {
     "name": "stdout",
     "output_type": "stream",
     "text": [
      "              precision    recall  f1-score   support\n",
      "\n",
      "           0       0.81      0.90      0.85        29\n",
      "           1       0.90      0.81      0.85        32\n",
      "\n",
      "    accuracy                           0.85        61\n",
      "   macro avg       0.85      0.85      0.85        61\n",
      "weighted avg       0.86      0.85      0.85        61\n",
      "\n"
     ]
    }
   ],
   "source": [
    "print(classification_report(y_test, lr2_model.predict(X_test)))"
   ]
  },
  {
   "cell_type": "markdown",
   "metadata": {},
   "source": [
    "## Support Vector Machine (Train-Test Split)"
   ]
  },
  {
   "cell_type": "code",
   "execution_count": 55,
   "metadata": {
    "ExecuteTime": {
     "end_time": "2021-06-27T03:02:47.450079Z",
     "start_time": "2021-06-27T03:02:47.446086Z"
    }
   },
   "outputs": [],
   "source": [
    "# copy data to avoid modifying original data\n",
    "svm2_data = data.copy() "
   ]
  },
  {
   "cell_type": "code",
   "execution_count": 56,
   "metadata": {
    "ExecuteTime": {
     "end_time": "2021-06-27T03:02:48.233545Z",
     "start_time": "2021-06-27T03:02:48.229529Z"
    }
   },
   "outputs": [],
   "source": [
    "#split dataset in features and target variable\n",
    "X = svm2_data.loc[:, svm2_data.columns != 'target']\n",
    "y = svm2_data.target"
   ]
  },
  {
   "cell_type": "code",
   "execution_count": 57,
   "metadata": {
    "ExecuteTime": {
     "end_time": "2021-06-27T03:02:50.093683Z",
     "start_time": "2021-06-27T03:02:50.086701Z"
    }
   },
   "outputs": [],
   "source": [
    "X_t = scale(X)"
   ]
  },
  {
   "cell_type": "code",
   "execution_count": 58,
   "metadata": {
    "ExecuteTime": {
     "end_time": "2021-06-27T03:02:50.998545Z",
     "start_time": "2021-06-27T03:02:50.994558Z"
    }
   },
   "outputs": [],
   "source": [
    "# 80% Training and 20% Testing \n",
    "X_train, X_test, y_train, y_test = train_test_split(X_t, y, test_size=0.2,random_state=109)"
   ]
  },
  {
   "cell_type": "code",
   "execution_count": 59,
   "metadata": {
    "ExecuteTime": {
     "end_time": "2021-06-27T03:02:52.942972Z",
     "start_time": "2021-06-27T03:02:52.933996Z"
    }
   },
   "outputs": [
    {
     "data": {
      "text/plain": [
       "SVC(kernel='linear')"
      ]
     },
     "execution_count": 59,
     "metadata": {},
     "output_type": "execute_result"
    }
   ],
   "source": [
    "svm2_model = svm.SVC(kernel='linear')\n",
    "svm2_model.fit(X_train,y_train)"
   ]
  },
  {
   "cell_type": "markdown",
   "metadata": {},
   "source": [
    "###  Support Vector Machine Accuracy on Train data"
   ]
  },
  {
   "cell_type": "code",
   "execution_count": 60,
   "metadata": {
    "ExecuteTime": {
     "end_time": "2021-06-27T03:03:23.154867Z",
     "start_time": "2021-06-27T03:03:23.144895Z"
    }
   },
   "outputs": [
    {
     "name": "stdout",
     "output_type": "stream",
     "text": [
      "              precision    recall  f1-score   support\n",
      "\n",
      "           0       0.91      0.79      0.84       109\n",
      "           1       0.84      0.93      0.88       132\n",
      "\n",
      "    accuracy                           0.87       241\n",
      "   macro avg       0.87      0.86      0.86       241\n",
      "weighted avg       0.87      0.87      0.87       241\n",
      "\n"
     ]
    }
   ],
   "source": [
    "print(classification_report(y_train, svm2_model.predict(X_train)))"
   ]
  },
  {
   "cell_type": "markdown",
   "metadata": {},
   "source": [
    "### Support Vector Machine Accuracy on Test data"
   ]
  },
  {
   "cell_type": "code",
   "execution_count": 61,
   "metadata": {
    "ExecuteTime": {
     "end_time": "2021-06-27T03:03:27.578172Z",
     "start_time": "2021-06-27T03:03:27.569205Z"
    }
   },
   "outputs": [
    {
     "name": "stdout",
     "output_type": "stream",
     "text": [
      "              precision    recall  f1-score   support\n",
      "\n",
      "           0       0.83      0.86      0.85        29\n",
      "           1       0.87      0.84      0.86        32\n",
      "\n",
      "    accuracy                           0.85        61\n",
      "   macro avg       0.85      0.85      0.85        61\n",
      "weighted avg       0.85      0.85      0.85        61\n",
      "\n"
     ]
    }
   ],
   "source": [
    "print(classification_report(y_test, svm2_model.predict(X_test)))"
   ]
  }
 ],
 "metadata": {
  "hide_input": false,
  "kernelspec": {
   "display_name": "Python 3",
   "language": "python",
   "name": "python3"
  },
  "language_info": {
   "codemirror_mode": {
    "name": "ipython",
    "version": 3
   },
   "file_extension": ".py",
   "mimetype": "text/x-python",
   "name": "python",
   "nbconvert_exporter": "python",
   "pygments_lexer": "ipython3",
   "version": "3.8.3"
  },
  "latex_envs": {
   "LaTeX_envs_menu_present": true,
   "autoclose": false,
   "autocomplete": true,
   "bibliofile": "biblio.bib",
   "cite_by": "apalike",
   "current_citInitial": 1,
   "eqLabelWithNumbers": true,
   "eqNumInitial": 1,
   "hotkeys": {
    "equation": "Ctrl-E",
    "itemize": "Ctrl-I"
   },
   "labels_anchors": false,
   "latex_user_defs": false,
   "report_style_numbering": false,
   "user_envs_cfg": false
  },
  "toc": {
   "base_numbering": 1,
   "nav_menu": {},
   "number_sections": true,
   "sideBar": true,
   "skip_h1_title": false,
   "title_cell": "Table of Contents",
   "title_sidebar": "Contents",
   "toc_cell": true,
   "toc_position": {},
   "toc_section_display": true,
   "toc_window_display": false
  }
 },
 "nbformat": 4,
 "nbformat_minor": 4
}
